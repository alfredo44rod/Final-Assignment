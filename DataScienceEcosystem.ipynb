{
 "cells": [
  {
   "cell_type": "markdown",
   "id": "9cbd00bc-068b-426b-8c52-f4daacdc37c6",
   "metadata": {},
   "source": [
    "# Data Science Tools and Ecosystem"
   ]
  },
  {
   "cell_type": "markdown",
   "id": "e02549fc-2458-42bb-bc9b-1518b37b2ab4",
   "metadata": {},
   "source": [
    "In this notebook, Data Science Tools and Ecosystem are summarized."
   ]
  },
  {
   "cell_type": "markdown",
   "id": "0289e9a5-f5f3-4a80-8964-08acb93da94e",
   "metadata": {},
   "source": [
    "**Objectives**\n",
    "- List popular languages in Data Science\n",
    "- List popular libraries in Data Science\n",
    "- List popular tools used in Data Science"
   ]
  },
  {
   "cell_type": "markdown",
   "id": "e18e0a58-29cc-41c4-9e54-5a98fb823c89",
   "metadata": {},
   "source": [
    "Some of the popular languages that Data Scientists use are:\n",
    "1. Python\n",
    "2. SQL\n",
    "3. R\n"
   ]
  },
  {
   "cell_type": "markdown",
   "id": "5c554eb0-47e0-479c-b9a0-4c4ad424cd53",
   "metadata": {},
   "source": [
    "Some of the commonly used libraries used by Data Scientists include:\n",
    "1. Pandas\n",
    "2. NumPy\n",
    "3. Matplotlib"
   ]
  },
  {
   "cell_type": "markdown",
   "id": "e0e93a83-5aba-436a-a210-df2da1f57c17",
   "metadata": {},
   "source": [
    "| Data Science Tools |\n",
    "|-------------|\n",
    "| MySQL      |\n",
    "| MongoDB      |\n",
    "| Apache Airflow      |"
   ]
  },
  {
   "cell_type": "markdown",
   "id": "4f2a4035-da1b-446d-8c4d-fb7bee37a4c8",
   "metadata": {},
   "source": [
    "### Below are a few examples of evaluating arithmetic expressions in Python\n",
    "\n",
    "3+2\n",
    "6-4\n",
    "7*9\n"
   ]
  },
  {
   "cell_type": "code",
   "execution_count": 12,
   "id": "2bd9df69-4dca-400c-bc20-85fd6afc9813",
   "metadata": {},
   "outputs": [
    {
     "data": {
      "text/plain": [
       "17"
      ]
     },
     "execution_count": 12,
     "metadata": {},
     "output_type": "execute_result"
    }
   ],
   "source": [
    "# This a simple arithmetic expression to mutiply then add integers\n",
    "\n",
    "(3*4)+5"
   ]
  },
  {
   "cell_type": "code",
   "execution_count": 13,
   "id": "ae35e4bb-a20d-436e-886e-09bbeaa37344",
   "metadata": {},
   "outputs": [
    {
     "data": {
      "text/plain": [
       "3.3333333333333335"
      ]
     },
     "execution_count": 13,
     "metadata": {},
     "output_type": "execute_result"
    }
   ],
   "source": [
    "# This will convert 200 minutes to hours by diving by 60\n",
    "\n",
    "200/60"
   ]
  },
  {
   "cell_type": "markdown",
   "id": "caf8aada-3e26-4439-9274-949e9d2e065e",
   "metadata": {},
   "source": [
    "## Author\n",
    "\n",
    "Alfredo Rodriguez"
   ]
  },
  {
   "cell_type": "code",
   "execution_count": null,
   "id": "83e4fce0-d621-4553-92ae-cf3bdd03d7b6",
   "metadata": {},
   "outputs": [],
   "source": []
  }
 ],
 "metadata": {
  "kernelspec": {
   "display_name": "Python 3 (ipykernel)",
   "language": "python",
   "name": "python3"
  },
  "language_info": {
   "codemirror_mode": {
    "name": "ipython",
    "version": 3
   },
   "file_extension": ".py",
   "mimetype": "text/x-python",
   "name": "python",
   "nbconvert_exporter": "python",
   "pygments_lexer": "ipython3",
   "version": "3.12.9"
  }
 },
 "nbformat": 4,
 "nbformat_minor": 5
}
